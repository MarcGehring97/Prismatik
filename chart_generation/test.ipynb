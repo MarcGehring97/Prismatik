{
 "cells": [
  {
   "cell_type": "code",
   "execution_count": null,
   "metadata": {},
   "outputs": [
    {
     "name": "stderr",
     "output_type": "stream",
     "text": [
      "/Users/marc/Desktop/Prismatik/venv/lib/python3.12/site-packages/tqdm/auto.py:21: TqdmWarning: IProgress not found. Please update jupyter and ipywidgets. See https://ipywidgets.readthedocs.io/en/stable/user_install.html\n",
      "  from .autonotebook import tqdm as notebook_tqdm\n"
     ]
    },
    {
     "data": {
      "application/vnd.plotly.v1+json": {
       "config": {
        "plotlyServerURL": "https://plot.ly"
       },
       "data": [
        {
         "hovertemplate": "continent=Africa<br>Year=%{x}<br>GDP Per Cap=%{y}<extra></extra>",
         "legendgroup": "Africa",
         "line": {
          "color": "#00b4ff",
          "dash": "solid"
         },
         "marker": {
          "symbol": "circle"
         },
         "mode": "lines",
         "name": "Africa",
         "orientation": "v",
         "showlegend": true,
         "type": "scatter",
         "x": {
          "bdata": "oAelB6oHrwe0B7kHvgfDB8gHzQfSB9cH",
          "dtype": "i2"
         },
         "xaxis": "x",
         "y": {
          "bdata": "vO96NEqSk0Bl0U268aSVQGDhdbdQ+JhAFyQbRLoEoEB3A6Y5O0eiQCxrLoTgM6RAOr1rmC9jo0C3ugWGVtWhQKq9/+Oe06FAigRo5ISVokDvy4szxU6kQEFqkbEQIqhA",
          "dtype": "f8"
         },
         "yaxis": "y"
        },
        {
         "hovertemplate": "continent=Americas<br>Year=%{x}<br>GDP Per Cap=%{y}<extra></extra>",
         "legendgroup": "Americas",
         "line": {
          "color": "#ff9222",
          "dash": "solid"
         },
         "marker": {
          "symbol": "circle"
         },
         "mode": "lines",
         "name": "Americas",
         "orientation": "v",
         "showlegend": true,
         "type": "scatter",
         "x": {
          "bdata": "oAelB6oHrwe0B7kHvgfDB8gHzQfSB9cH",
          "dtype": "i2"
         },
         "xaxis": "x",
         "y": {
          "bdata": "lorXBiDer0DzqxgyCwiyQKy+BLiKJbNAd9Ed5UAktkAf2SKKVVu5QIojB9MBuLxA3+3NsbxSvUBDRIN3ZnG+QJo9MzXvbL9A5ROqgqZcwUCk4XOr1iPCQHa/TAyEfcVA",
          "dtype": "f8"
         },
         "yaxis": "y"
        },
        {
         "hovertemplate": "continent=Asia<br>Year=%{x}<br>GDP Per Cap=%{y}<extra></extra>",
         "legendgroup": "Asia",
         "line": {
          "color": "#3949ab",
          "dash": "solid"
         },
         "marker": {
          "symbol": "circle"
         },
         "mode": "lines",
         "name": "Asia",
         "orientation": "v",
         "showlegend": true,
         "type": "scatter",
         "x": {
          "bdata": "oAelB6oHrwe0B7kHvgfDB8gHzQfSB9cH",
          "dtype": "i2"
         },
         "xaxis": "x",
         "y": {
          "bdata": "VFCw53tLtECluvOhu5u2QKyzup9eYbZABXA2YixTt0Dl4q/8d/u/QPEynGNQb75APFGumSIKvUDxHWn8Obi9QOWhCVrY38BAj0QZ8Qs1w0DJdh2SC9/DQPQDe3CDXMhA",
          "dtype": "f8"
         },
         "yaxis": "y"
        },
        {
         "hovertemplate": "continent=Europe<br>Year=%{x}<br>GDP Per Cap=%{y}<extra></extra>",
         "legendgroup": "Europe",
         "line": {
          "color": "#ff5267",
          "dash": "solid"
         },
         "marker": {
          "symbol": "circle"
         },
         "mode": "lines",
         "name": "Europe",
         "orientation": "v",
         "showlegend": true,
         "type": "scatter",
         "x": {
          "bdata": "oAelB6oHrwe0B7kHvgfDB8gHzQfSB9cH",
          "dtype": "i2"
         },
         "xaxis": "x",
         "y": {
          "bdata": "218LtA4dtkCJrudHAzO7QN1U7k++VsBARKXacOnPw0C9HK2hyV/IQJqfdlP95ctALtkwwvKAzkAL9vHik8/QQBjVfVtkqdBA/pMJCTKh0kCBVwLg7jPVQJCFH9Oed9hA",
          "dtype": "f8"
         },
         "yaxis": "y"
        },
        {
         "hovertemplate": "continent=Oceania<br>Year=%{x}<br>GDP Per Cap=%{y}<extra></extra>",
         "legendgroup": "Oceania",
         "line": {
          "color": "#08bdba",
          "dash": "solid"
         },
         "marker": {
          "symbol": "circle"
         },
         "mode": "lines",
         "name": "Oceania",
         "orientation": "v",
         "showlegend": true,
         "type": "scatter",
         "x": {
          "bdata": "oAelB6oHrwe0B7kHvgfDB8gHzQfSB9cH",
          "dtype": "i2"
         },
         "xaxis": "x",
         "y": {
          "bdata": "dEaU9godxEBRMc7fQqfGQN7qOek5zMhAscQDyoJPzEBJERlWVQjQQF97Zkn94NBAWcAEbq0e0kCmP/uRAvjTQJijx++CZ9RAUDv8NQt210C/SGjLsU7aQOmVsgyMHN1A",
          "dtype": "f8"
         },
         "yaxis": "y"
        }
       ],
       "layout": {
        "legend": {
         "title": {
          "text": "continent"
         },
         "tracegroupgap": 0
        },
        "template": {
         "data": {
          "bar": [
           {
            "marker": {
             "line": {
              "color": "#141721"
             }
            },
            "type": "bar"
           }
          ],
          "waterfall": [
           {
            "connector": {
             "line": {
              "color": "rgba(255,255,255,0.30)",
              "width": 1
             }
            },
            "decreasing": {
             "marker": {
              "color": "#ff9222"
             }
            },
            "increasing": {
             "marker": {
              "color": "#00b4ff"
             }
            },
            "textfont": {
             "color": "rgba(255,255,255,0.85)"
            },
            "textposition": "outside",
            "totals": {
             "marker": {
              "color": "#747F88"
             }
            },
            "type": "waterfall"
           }
          ]
         },
         "layout": {
          "annotationdefaults": {
           "font": {
            "color": "rgba(255,255,255,0.85)",
            "size": 14
           },
           "showarrow": false
          },
          "bargroupgap": 0.1,
          "coloraxis": {
           "autocolorscale": false,
           "colorbar": {
            "outlinewidth": 0,
            "showticklabels": true,
            "thickness": 20,
            "tickcolor": "rgba(255,255,255,0.30)",
            "tickfont": {
             "color": "rgba(255,255,255,0.55)",
             "size": 14
            },
            "ticklabelposition": "outside",
            "ticklen": 8,
            "ticks": "outside",
            "tickwidth": 1,
            "title": {
             "font": {
              "color": "rgba(255,255,255,0.55)",
              "size": 14
             }
            }
           }
          },
          "colorscale": {
           "diverging": [
            [
             0,
             "#7e000c"
            ],
            [
             0.05555555555555555,
             "#9d1021"
            ],
            [
             0.1111111111111111,
             "#bc1f37"
            ],
            [
             0.16666666666666666,
             "#db2f4c"
            ],
            [
             0.2222222222222222,
             "#ea536b"
            ],
            [
             0.2777777777777778,
             "#f67486"
            ],
            [
             0.3333333333333333,
             "#fe94a0"
            ],
            [
             0.3888888888888889,
             "#fbb6be"
            ],
            [
             0.4444444444444444,
             "#f8d6da"
            ],
            [
             0.5,
             "#E6E8EA"
            ],
            [
             0.5555555555555556,
             "#afe7f9"
            ],
            [
             0.6111111111111112,
             "#5bd6fe"
            ],
            [
             0.6666666666666666,
             "#3bbef1"
            ],
            [
             0.7222222222222222,
             "#24a6e1"
            ],
            [
             0.7777777777777778,
             "#0d8ed1"
            ],
            [
             0.8333333333333334,
             "#0077bd"
            ],
            [
             0.8888888888888888,
             "#0061a4"
            ],
            [
             0.9444444444444444,
             "#004c8c"
            ],
            [
             1,
             "#003875"
            ]
           ],
           "sequential": [
            [
             0,
             "#afe7f9"
            ],
            [
             0.125,
             "#5bd6fe"
            ],
            [
             0.25,
             "#3bbef1"
            ],
            [
             0.375,
             "#24a6e1"
            ],
            [
             0.5,
             "#0d8ed1"
            ],
            [
             0.625,
             "#0077bd"
            ],
            [
             0.75,
             "#0061a4"
            ],
            [
             0.875,
             "#004c8c"
            ],
            [
             1,
             "#003875"
            ]
           ],
           "sequentialminus": [
            [
             0,
             "#7e000c"
            ],
            [
             0.125,
             "#9d1021"
            ],
            [
             0.25,
             "#bc1f37"
            ],
            [
             0.375,
             "#db2f4c"
            ],
            [
             0.5,
             "#ea536b"
            ],
            [
             0.625,
             "#f67486"
            ],
            [
             0.75,
             "#fe94a0"
            ],
            [
             0.875,
             "#fbb6be"
            ],
            [
             1,
             "#f8d6da"
            ]
           ]
          },
          "colorway": [
           "#00b4ff",
           "#ff9222",
           "#3949ab",
           "#ff5267",
           "#08bdba",
           "#fdc935",
           "#689f38",
           "#976fd1",
           "#f781bf",
           "#52733e"
          ],
          "font": {
           "color": "rgba(255,255,255,0.85)",
           "family": "Inter, sans-serif, Arial",
           "size": 14
          },
          "geo": {
           "bgcolor": "#141721",
           "lakecolor": "#141721",
           "landcolor": "#141721"
          },
          "legend": {
           "bgcolor": "rgba(0,0,0,0)",
           "font": {
            "color": "rgba(255,255,255,0.85)",
            "size": 14
           },
           "orientation": "h",
           "title": {
            "font": {
             "color": "rgba(255,255,255,0.85)",
             "size": 14
            }
           },
           "y": -0.2
          },
          "map": {
           "style": "carto-darkmatter"
          },
          "mapbox": {
           "style": "carto-darkmatter"
          },
          "margin": {
           "autoexpand": true,
           "b": 64,
           "l": 80,
           "pad": 0,
           "r": 24,
           "t": 64
          },
          "paper_bgcolor": "#141721",
          "plot_bgcolor": "#141721",
          "polar": {
           "angularaxis": {
            "gridcolor": "rgba(255,255,255,0.10)",
            "linecolor": "rgba(255,255,255,0.30)"
           },
           "bgcolor": "#141721",
           "radialaxis": {
            "gridcolor": "rgba(255,255,255,0.10)",
            "linecolor": "rgba(255,255,255,0.30)"
           }
          },
          "showlegend": true,
          "ternary": {
           "aaxis": {
            "gridcolor": "rgba(255,255,255,0.10)",
            "linecolor": "rgba(255,255,255,0.30)"
           },
           "baxis": {
            "gridcolor": "rgba(255,255,255,0.10)",
            "linecolor": "rgba(255,255,255,0.30)"
           },
           "bgcolor": "#141721",
           "caxis": {
            "gridcolor": "rgba(255,255,255,0.10)",
            "linecolor": "rgba(255,255,255,0.30)"
           }
          },
          "title": {
           "font": {
            "color": "rgba(255,255,255,0.85)",
            "size": 20
           },
           "pad": {
            "b": 0,
            "l": 24,
            "r": 24,
            "t": 24
           },
           "x": 0,
           "xanchor": "left",
           "xref": "container",
           "y": 1,
           "yanchor": "top",
           "yref": "container"
          },
          "uniformtext": {
           "minsize": 12,
           "mode": "hide"
          },
          "xaxis": {
           "automargin": true,
           "gridcolor": "rgba(255,255,255,0.10)",
           "layer": "below traces",
           "linecolor": "rgba(255,255,255,0.30)",
           "linewidth": 1,
           "showline": true,
           "showticklabels": true,
           "tickcolor": "rgba(255,255,255,0.30)",
           "tickfont": {
            "color": "rgba(255,255,255,0.55)",
            "size": 14
           },
           "ticklabelposition": "outside",
           "ticklen": 8,
           "ticks": "outside",
           "tickwidth": 1,
           "title": {
            "font": {
             "color": "rgba(255,255,255,0.85)",
             "size": 16
            },
            "standoff": 8
           },
           "visible": true,
           "zeroline": false
          },
          "yaxis": {
           "automargin": true,
           "gridcolor": "rgba(255,255,255,0.10)",
           "layer": "below traces",
           "linecolor": "rgba(255,255,255,0.30)",
           "linewidth": 1,
           "showline": false,
           "showticklabels": true,
           "tickcolor": "rgba(255,255,255,0.30)",
           "tickfont": {
            "color": "rgba(255,255,255,0.55)",
            "size": 14
           },
           "ticklabelposition": "outside",
           "ticklen": 8,
           "ticks": "outside",
           "tickwidth": 1,
           "title": {
            "font": {
             "color": "rgba(255,255,255,0.85)",
             "size": 16
            },
            "standoff": 8
           },
           "visible": true,
           "zeroline": false
          }
         }
        },
        "xaxis": {
         "anchor": "y",
         "domain": [
          0,
          1
         ],
         "title": {
          "text": "Year"
         }
        },
        "yaxis": {
         "anchor": "x",
         "domain": [
          0,
          1
         ],
         "title": {
          "text": "GDP Per Cap"
         }
        }
       }
      }
     },
     "metadata": {},
     "output_type": "display_data"
    }
   ],
   "source": [
    "import vizro.plotly.express as px\n",
    "from vizro_ai import VizroAI\n",
    "import json\n",
    "import os\n",
    "\n",
    "# Load the JSON file containing the OpenAI key\n",
    "with open('/Users/marc/Downloads/api_key.json', 'r') as f:\n",
    "    data = json.load(f)\n",
    "\n",
    "# Assuming the key is stored under a key like \"openai_api_key\" in the JSON\n",
    "api_key = data.get('openai_api_key')\n",
    "\n",
    "# Set the environment variable\n",
    "os.environ[\"OPENAI_API_KEY\"] = api_key\n",
    "\n",
    "df = px.data.gapminder()\n",
    "\n",
    "vizro_ai = VizroAI(model=\"gpt-4o-mini\")\n",
    "fig, generated_code = vizro_ai.plot(\n",
    "    df,\n",
    "    \"\"\"create a line graph for GDP per capita since 1950 for each continent.\n",
    "    Mark the x axis as Year, y axis as GDP Per Cap and don't include a title.\n",
    "    Make sure to take average over continent.\"\"\",\n",
    ")\n",
    "\n",
    "# Render the plot\n",
    "fig.show()\n",
    "\n",
    "# Print the code generated by the LLM\n",
    "print(\"Generated code:\\n\")\n",
    "print(generated_code)  # This will print the code the model wrote"
   ]
  }
 ],
 "metadata": {
  "kernelspec": {
   "display_name": "venv",
   "language": "python",
   "name": "python3"
  },
  "language_info": {
   "codemirror_mode": {
    "name": "ipython",
    "version": 3
   },
   "file_extension": ".py",
   "mimetype": "text/x-python",
   "name": "python",
   "nbconvert_exporter": "python",
   "pygments_lexer": "ipython3",
   "version": "3.12.5"
  }
 },
 "nbformat": 4,
 "nbformat_minor": 2
}
